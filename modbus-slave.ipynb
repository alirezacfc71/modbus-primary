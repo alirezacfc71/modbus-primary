{
 "cells": [
  {
   "cell_type": "code",
   "execution_count": 1,
   "id": "8252a413-49cf-4100-871a-17dbd4bcd44a",
   "metadata": {},
   "outputs": [
    {
     "name": "stdout",
     "output_type": "stream",
     "text": [
      "^C\n",
      "Note: you may need to restart the kernel to use updated packages.\n"
     ]
    }
   ],
   "source": [
    "\n"
   ]
  },
  {
   "cell_type": "code",
   "execution_count": 2,
   "id": "c51d4225-8c4e-4e06-b547-3e26b72d7104",
   "metadata": {},
   "outputs": [
    {
     "name": "stdout",
     "output_type": "stream",
     "text": [
      "Requirement already satisfied: pymodbus==2.5.3 in e:\\embedded_tools\\installs\\python\\lib\\site-packages (2.5.3)\n",
      "Requirement already satisfied: six>=1.15.0 in e:\\embedded_tools\\installs\\python\\lib\\site-packages (from pymodbus==2.5.3) (1.17.0)\n",
      "Requirement already satisfied: pyserial>=3.4 in e:\\embedded_tools\\installs\\python\\lib\\site-packages (from pymodbus==2.5.3) (3.5)\n",
      "Note: you may need to restart the kernel to use updated packages.\n"
     ]
    }
   ],
   "source": [
    "pip install pymodbus==2.5.3"
   ]
  },
  {
   "cell_type": "code",
   "execution_count": 4,
   "id": "1ed8c327-9769-4a93-ac36-655a940c6676",
   "metadata": {},
   "outputs": [
    {
     "name": "stderr",
     "output_type": "stream",
     "text": [
      "Exception in thread Thread-10 (run_slave):\n",
      "Exception in thread Exception in thread Thread-12 (run_slave):\n",
      "Thread-11 (run_slave):\n",
      "Traceback (most recent call last):\n",
      "  File \u001b[35m\"E:\\embedded_tools\\installs\\python\\Lib\\threading.py\"\u001b[0m, line \u001b[35m1043\u001b[0m, in \u001b[35m_bootstrap_inner\u001b[0m\n",
      "    \u001b[31mself.run\u001b[0m\u001b[1;31m()\u001b[0m\n",
      "    \u001b[31m~~~~~~~~\u001b[0m\u001b[1;31m^^\u001b[0m\n",
      "  File \u001b[35m\"E:\\embedded_tools\\installs\\python\\Lib\\site-packages\\ipykernel\\ipkernel.py\"\u001b[0m, line \u001b[35m766\u001b[0m, in \u001b[35mrun_closure\u001b[0m\n",
      "    \u001b[31m_threading_Thread_run\u001b[0m\u001b[1;31m(self)\u001b[0m\n",
      "    \u001b[31m~~~~~~~~~~~~~~~~~~~~~\u001b[0m\u001b[1;31m^^^^^^\u001b[0m\n",
      "  File \u001b[35m\"E:\\embedded_tools\\installs\\python\\Lib\\threading.py\"\u001b[0m, line \u001b[35m994\u001b[0m, in \u001b[35mrun\u001b[0m\n",
      "    \u001b[31mself._target\u001b[0m\u001b[1;31m(*self._args, **self._kwargs)\u001b[0m\n",
      "    \u001b[31m~~~~~~~~~~~~\u001b[0m\u001b[1;31m^^^^^^^^^^^^^^^^^^^^^^^^^^^^^\u001b[0m\n",
      "  File \u001b[35m\"C:\\Users\\alireza\\AppData\\Local\\Temp\\ipykernel_14112\\337481131.py\"\u001b[0m, line \u001b[35m13\u001b[0m, in \u001b[35mrun_slave\u001b[0m\n",
      "    \u001b[31mStartTcpServer\u001b[0m\u001b[1;31m(context, address=(\"localhost\", port))\u001b[0m\n",
      "    \u001b[31m~~~~~~~~~~~~~~\u001b[0m\u001b[1;31m^^^^^^^^^^^^^^^^^^^^^^^^^^^^^^^^^^^^^^\u001b[0m\n",
      "  File \u001b[35m\"E:\\embedded_tools\\installs\\python\\Lib\\site-packages\\pymodbus\\server\\sync.py\"\u001b[0m, line \u001b[35m620\u001b[0m, in \u001b[35mStartTcpServer\u001b[0m\n",
      "    server = ModbusTcpServer(context, framer, identity, address, **kwargs)\n",
      "  File \u001b[35m\"E:\\embedded_tools\\installs\\python\\Lib\\site-packages\\pymodbus\\server\\sync.py\"\u001b[0m, line \u001b[35m338\u001b[0m, in \u001b[35m__init__\u001b[0m\n",
      "    \u001b[31msocketserver.ThreadingTCPServer.__init__\u001b[0m\u001b[1;31m(self, self.address,\u001b[0m\n",
      "    \u001b[31m~~~~~~~~~~~~~~~~~~~~~~~~~~~~~~~~~~~~~~~~\u001b[0m\u001b[1;31m^^^^^^^^^^^^^^^^^^^^\u001b[0m\n",
      "                                             \u001b[1;31mself.handler,\u001b[0m\n",
      "                                             \u001b[1;31m^^^^^^^^^^^^^\u001b[0m\n",
      "                                             \u001b[1;31m**kwargs)\u001b[0m\n",
      "                                             \u001b[1;31m^^^^^^^^^\u001b[0m\n",
      "  File \u001b[35m\"E:\\embedded_tools\\installs\\python\\Lib\\socketserver.py\"\u001b[0m, line \u001b[35m457\u001b[0m, in \u001b[35m__init__\u001b[0m\n",
      "    \u001b[31mself.server_bind\u001b[0m\u001b[1;31m()\u001b[0m\n",
      "    \u001b[31m~~~~~~~~~~~~~~~~\u001b[0m\u001b[1;31m^^\u001b[0m\n",
      "  File \u001b[35m\"E:\\embedded_tools\\installs\\python\\Lib\\socketserver.py\"\u001b[0m, line \u001b[35m478\u001b[0m, in \u001b[35mserver_bind\u001b[0m\n",
      "    \u001b[31mself.socket.bind\u001b[0m\u001b[1;31m(self.server_address)\u001b[0m\n",
      "    \u001b[31m~~~~~~~~~~~~~~~~\u001b[0m\u001b[1;31m^^^^^^^^^^^^^^^^^^^^^\u001b[0m\n",
      "\u001b[1;35mOSError\u001b[0m: \u001b[35m[WinError 10048] Only one usage of each socket address (protocol/network address/port) is normally permitted\u001b[0m\n",
      "Traceback (most recent call last):\n",
      "  File \u001b[35m\"E:\\embedded_tools\\installs\\python\\Lib\\threading.py\"\u001b[0m, line \u001b[35m1043\u001b[0m, in \u001b[35m_bootstrap_inner\u001b[0m\n",
      "    \u001b[31mself.run\u001b[0m\u001b[1;31m()\u001b[0m\n",
      "    \u001b[31m~~~~~~~~\u001b[0m\u001b[1;31m^^\u001b[0m\n",
      "  File \u001b[35m\"E:\\embedded_tools\\installs\\python\\Lib\\site-packages\\ipykernel\\ipkernel.py\"\u001b[0m, line \u001b[35m766\u001b[0m, in \u001b[35mrun_closure\u001b[0m\n",
      "    \u001b[31m_threading_Thread_run\u001b[0m\u001b[1;31m(self)\u001b[0m\n",
      "    \u001b[31m~~~~~~~~~~~~~~~~~~~~~\u001b[0m\u001b[1;31m^^^^^^\u001b[0m\n",
      "  File \u001b[35m\"E:\\embedded_tools\\installs\\python\\Lib\\threading.py\"\u001b[0m, line \u001b[35m994\u001b[0m, in \u001b[35mrun\u001b[0m\n",
      "    \u001b[31mself._target\u001b[0m\u001b[1;31m(*self._args, **self._kwargs)\u001b[0m\n",
      "    \u001b[31m~~~~~~~~~~~~\u001b[0m\u001b[1;31m^^^^^^^^^^^^^^^^^^^^^^^^^^^^^\u001b[0m\n",
      "  File \u001b[35m\"C:\\Users\\alireza\\AppData\\Local\\Temp\\ipykernel_14112\\337481131.py\"\u001b[0m, line \u001b[35m13\u001b[0m, in \u001b[35mrun_slave\u001b[0m\n",
      "    \u001b[31mStartTcpServer\u001b[0m\u001b[1;31m(context, address=(\"localhost\", port))\u001b[0m\n",
      "    \u001b[31m~~~~~~~~~~~~~~\u001b[0m\u001b[1;31m^^^^^^^^^^^^^^^^^^^^^^^^^^^^^^^^^^^^^^\u001b[0m\n",
      "  File \u001b[35m\"E:\\embedded_tools\\installs\\python\\Lib\\site-packages\\pymodbus\\server\\sync.py\"\u001b[0m, line \u001b[35m620\u001b[0m, in \u001b[35mStartTcpServer\u001b[0m\n",
      "    server = ModbusTcpServer(context, framer, identity, address, **kwargs)\n",
      "  File \u001b[35m\"E:\\embedded_tools\\installs\\python\\Lib\\site-packages\\pymodbus\\server\\sync.py\"\u001b[0m, line \u001b[35m338\u001b[0m, in \u001b[35m__init__\u001b[0m\n",
      "    \u001b[31msocketserver.ThreadingTCPServer.__init__\u001b[0m\u001b[1;31m(self, self.address,\u001b[0m\n",
      "    \u001b[31m~~~~~~~~~~~~~~~~~~~~~~~~~~~~~~~~~~~~~~~~\u001b[0m\u001b[1;31m^^^^^^^^^^^^^^^^^^^^\u001b[0m\n",
      "                                             \u001b[1;31mself.handler,\u001b[0m\n",
      "                                             \u001b[1;31m^^^^^^^^^^^^^\u001b[0m\n",
      "                                             \u001b[1;31m**kwargs)\u001b[0m\n",
      "                                             \u001b[1;31m^^^^^^^^^\u001b[0m\n",
      "  File \u001b[35m\"E:\\embedded_tools\\installs\\python\\Lib\\socketserver.py\"\u001b[0m, line \u001b[35m457\u001b[0m, in \u001b[35m__init__\u001b[0m\n",
      "    \u001b[31mself.server_bind\u001b[0m\u001b[1;31m()\u001b[0m\n",
      "    \u001b[31m~~~~~~~~~~~~~~~~\u001b[0m\u001b[1;31m^^\u001b[0m\n",
      "  File \u001b[35m\"E:\\embedded_tools\\installs\\python\\Lib\\socketserver.py\"\u001b[0m, line \u001b[35m478\u001b[0m, in \u001b[35mserver_bind\u001b[0m\n",
      "    \u001b[31mself.socket.bind\u001b[0m\u001b[1;31m(self.server_address)\u001b[0m\n",
      "    \u001b[31m~~~~~~~~~~~~~~~~\u001b[0m\u001b[1;31m^^^^^^^^^^^^^^^^^^^^^\u001b[0m\n",
      "\u001b[1;35mOSError\u001b[0m: \u001b[35m[WinError 10048] Only one usage of each socket address (protocol/network address/port) is normally permitted\u001b[0m\n",
      "Traceback (most recent call last):\n",
      "  File \u001b[35m\"E:\\embedded_tools\\installs\\python\\Lib\\threading.py\"\u001b[0m, line \u001b[35m1043\u001b[0m, in \u001b[35m_bootstrap_inner\u001b[0m\n",
      "    \u001b[31mself.run\u001b[0m\u001b[1;31m()\u001b[0m\n",
      "    \u001b[31m~~~~~~~~\u001b[0m\u001b[1;31m^^\u001b[0m\n",
      "  File \u001b[35m\"E:\\embedded_tools\\installs\\python\\Lib\\site-packages\\ipykernel\\ipkernel.py\"\u001b[0m, line \u001b[35m766\u001b[0m, in \u001b[35mrun_closure\u001b[0m\n",
      "    \u001b[31m_threading_Thread_run\u001b[0m\u001b[1;31m(self)\u001b[0m\n",
      "    \u001b[31m~~~~~~~~~~~~~~~~~~~~~\u001b[0m\u001b[1;31m^^^^^^\u001b[0m\n",
      "  File \u001b[35m\"E:\\embedded_tools\\installs\\python\\Lib\\threading.py\"\u001b[0m, line \u001b[35m994\u001b[0m, in \u001b[35mrun\u001b[0m\n",
      "    \u001b[31mself._target\u001b[0m\u001b[1;31m(*self._args, **self._kwargs)\u001b[0m\n",
      "    \u001b[31m~~~~~~~~~~~~\u001b[0m\u001b[1;31m^^^^^^^^^^^^^^^^^^^^^^^^^^^^^\u001b[0m\n",
      "  File \u001b[35m\"C:\\Users\\alireza\\AppData\\Local\\Temp\\ipykernel_14112\\337481131.py\"\u001b[0m, line \u001b[35m13\u001b[0m, in \u001b[35mrun_slave\u001b[0m\n",
      "    \u001b[31mStartTcpServer\u001b[0m\u001b[1;31m(context, address=(\"localhost\", port))\u001b[0m\n",
      "    \u001b[31m~~~~~~~~~~~~~~\u001b[0m\u001b[1;31m^^^^^^^^^^^^^^^^^^^^^^^^^^^^^^^^^^^^^^\u001b[0m\n",
      "  File \u001b[35m\"E:\\embedded_tools\\installs\\python\\Lib\\site-packages\\pymodbus\\server\\sync.py\"\u001b[0m, line \u001b[35m620\u001b[0m, in \u001b[35mStartTcpServer\u001b[0m\n",
      "    server = ModbusTcpServer(context, framer, identity, address, **kwargs)\n",
      "  File \u001b[35m\"E:\\embedded_tools\\installs\\python\\Lib\\site-packages\\pymodbus\\server\\sync.py\"\u001b[0m, line \u001b[35m338\u001b[0m, in \u001b[35m__init__\u001b[0m\n",
      "    \u001b[31msocketserver.ThreadingTCPServer.__init__\u001b[0m\u001b[1;31m(self, self.address,\u001b[0m\n",
      "    \u001b[31m~~~~~~~~~~~~~~~~~~~~~~~~~~~~~~~~~~~~~~~~\u001b[0m\u001b[1;31m^^^^^^^^^^^^^^^^^^^^\u001b[0m\n",
      "                                             \u001b[1;31mself.handler,\u001b[0m\n",
      "                                             \u001b[1;31m^^^^^^^^^^^^^\u001b[0m\n",
      "                                             \u001b[1;31m**kwargs)\u001b[0m\n",
      "                                             \u001b[1;31m^^^^^^^^^\u001b[0m\n",
      "  File \u001b[35m\"E:\\embedded_tools\\installs\\python\\Lib\\socketserver.py\"\u001b[0m, line \u001b[35m457\u001b[0m, in \u001b[35m__init__\u001b[0m\n",
      "    \u001b[31mself.server_bind\u001b[0m\u001b[1;31m()\u001b[0m\n",
      "    \u001b[31m~~~~~~~~~~~~~~~~\u001b[0m\u001b[1;31m^^\u001b[0m\n",
      "  File \u001b[35m\"E:\\embedded_tools\\installs\\python\\Lib\\socketserver.py\"\u001b[0m, line \u001b[35m478\u001b[0m, in \u001b[35mserver_bind\u001b[0m\n",
      "    \u001b[31mself.socket.bind\u001b[0m\u001b[1;31m(self.server_address)\u001b[0m\n",
      "    \u001b[31m~~~~~~~~~~~~~~~~\u001b[0m\u001b[1;31m^^^^^^^^^^^^^^^^^^^^^\u001b[0m\n",
      "\u001b[1;35mOSError\u001b[0m: \u001b[35m[WinError 10048] Only one usage of each socket address (protocol/network address/port) is normally permitted\u001b[0m\n"
     ]
    }
   ],
   "source": [
    "# pip install pymodbus\n",
    "from pymodbus.server.sync import StartTcpServer\n",
    "from pymodbus.datastore import ModbusSlaveContext, ModbusServerContext\n",
    "from pymodbus.datastore import ModbusSequentialDataBlock\n",
    "from threading import Thread\n",
    "import time\n",
    "\n",
    "def run_slave(port, unit_id, temperature):\n",
    "    store = ModbusSlaveContext(\n",
    "        hr=ModbusSequentialDataBlock(0, [temperature]*10)\n",
    "    )\n",
    "    context = ModbusServerContext(slaves={unit_id: store}, single=False)\n",
    "    StartTcpServer(context, address=(\"localhost\", port))\n",
    "\n",
    "# اجرای 3 اسلیو با پورت و آدرس متفاوت\n",
    "for i, temp in enumerate([25, 27, 29]):\n",
    "    Thread(target=run_slave, args=(5020+i, i+1, temp)).start()"
   ]
  },
  {
   "cell_type": "code",
   "execution_count": null,
   "id": "c17f1581-5e3d-4730-b1fb-5b35e937b39d",
   "metadata": {},
   "outputs": [],
   "source": [
    "pip uninstall pymodbus\n"
   ]
  },
  {
   "cell_type": "code",
   "execution_count": null,
   "id": "e8f726c7-fae1-4dbc-807c-40800b905ad8",
   "metadata": {},
   "outputs": [],
   "source": []
  }
 ],
 "metadata": {
  "kernelspec": {
   "display_name": "Python 3 (ipykernel)",
   "language": "python",
   "name": "python3"
  },
  "language_info": {
   "codemirror_mode": {
    "name": "ipython",
    "version": 3
   },
   "file_extension": ".py",
   "mimetype": "text/x-python",
   "name": "python",
   "nbconvert_exporter": "python",
   "pygments_lexer": "ipython3",
   "version": "3.13.5"
  }
 },
 "nbformat": 4,
 "nbformat_minor": 5
}
