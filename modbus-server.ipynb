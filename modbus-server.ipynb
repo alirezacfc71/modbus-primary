{
 "cells": [
  {
   "cell_type": "code",
   "execution_count": 2,
   "id": "882856fa-2535-475b-9d8f-a26556c555cd",
   "metadata": {},
   "outputs": [
    {
     "ename": "ConnectionException",
     "evalue": "Modbus Error: [Connection] Failed to connect[ModbusTcpClient(localhost:5020)]",
     "output_type": "error",
     "traceback": [
      "\u001b[1;31m---------------------------------------------------------------------------\u001b[0m",
      "\u001b[1;31mConnectionException\u001b[0m                       Traceback (most recent call last)",
      "Cell \u001b[1;32mIn[2], line 15\u001b[0m\n\u001b[0;32m     13\u001b[0m client \u001b[38;5;241m=\u001b[39m ModbusTcpClient(s[\u001b[38;5;124m\"\u001b[39m\u001b[38;5;124mip\u001b[39m\u001b[38;5;124m\"\u001b[39m], port\u001b[38;5;241m=\u001b[39ms[\u001b[38;5;124m\"\u001b[39m\u001b[38;5;124mport\u001b[39m\u001b[38;5;124m\"\u001b[39m])\n\u001b[0;32m     14\u001b[0m client\u001b[38;5;241m.\u001b[39mconnect()\n\u001b[1;32m---> 15\u001b[0m rr \u001b[38;5;241m=\u001b[39m client\u001b[38;5;241m.\u001b[39mread_holding_registers(\u001b[38;5;241m0\u001b[39m, \u001b[38;5;241m1\u001b[39m, unit\u001b[38;5;241m=\u001b[39ms[\u001b[38;5;124m\"\u001b[39m\u001b[38;5;124munit\u001b[39m\u001b[38;5;124m\"\u001b[39m])\n\u001b[0;32m     16\u001b[0m \u001b[38;5;28;01mif\u001b[39;00m \u001b[38;5;129;01mnot\u001b[39;00m rr\u001b[38;5;241m.\u001b[39misError():\n\u001b[0;32m     17\u001b[0m     \u001b[38;5;28mprint\u001b[39m(\u001b[38;5;124mf\u001b[39m\u001b[38;5;124m\"\u001b[39m\u001b[38;5;124mSlave \u001b[39m\u001b[38;5;132;01m{\u001b[39;00ms[\u001b[38;5;124m'\u001b[39m\u001b[38;5;124munit\u001b[39m\u001b[38;5;124m'\u001b[39m]\u001b[38;5;132;01m}\u001b[39;00m\u001b[38;5;124m Temp: \u001b[39m\u001b[38;5;132;01m{\u001b[39;00mrr\u001b[38;5;241m.\u001b[39mregisters[\u001b[38;5;241m0\u001b[39m]\u001b[38;5;132;01m}\u001b[39;00m\u001b[38;5;124m°C\u001b[39m\u001b[38;5;124m\"\u001b[39m)\n",
      "File \u001b[1;32mE:\\embedded_tools\\installs\\python\\Lib\\site-packages\\pymodbus\\client\\common.py:114\u001b[0m, in \u001b[0;36mModbusClientMixin.read_holding_registers\u001b[1;34m(self, address, count, **kwargs)\u001b[0m\n\u001b[0;32m    106\u001b[0m \u001b[38;5;250m\u001b[39m\u001b[38;5;124;03m'''\u001b[39;00m\n\u001b[0;32m    107\u001b[0m \n\u001b[0;32m    108\u001b[0m \u001b[38;5;124;03m:param address: The starting address to read from\u001b[39;00m\n\u001b[1;32m   (...)\u001b[0m\n\u001b[0;32m    111\u001b[0m \u001b[38;5;124;03m:returns: A deferred response handle\u001b[39;00m\n\u001b[0;32m    112\u001b[0m \u001b[38;5;124;03m'''\u001b[39;00m\n\u001b[0;32m    113\u001b[0m request \u001b[38;5;241m=\u001b[39m ReadHoldingRegistersRequest(address, count, \u001b[38;5;241m*\u001b[39m\u001b[38;5;241m*\u001b[39mkwargs)\n\u001b[1;32m--> 114\u001b[0m \u001b[38;5;28;01mreturn\u001b[39;00m \u001b[38;5;28mself\u001b[39m\u001b[38;5;241m.\u001b[39mexecute(request)\n",
      "File \u001b[1;32mE:\\embedded_tools\\installs\\python\\Lib\\site-packages\\pymodbus\\client\\sync.py:108\u001b[0m, in \u001b[0;36mBaseModbusClient.execute\u001b[1;34m(self, request)\u001b[0m\n\u001b[0;32m    103\u001b[0m \u001b[38;5;250m\u001b[39m\u001b[38;5;124;03m\"\"\"\u001b[39;00m\n\u001b[0;32m    104\u001b[0m \u001b[38;5;124;03m:param request: The request to process\u001b[39;00m\n\u001b[0;32m    105\u001b[0m \u001b[38;5;124;03m:returns: The result of the request execution\u001b[39;00m\n\u001b[0;32m    106\u001b[0m \u001b[38;5;124;03m\"\"\"\u001b[39;00m\n\u001b[0;32m    107\u001b[0m \u001b[38;5;28;01mif\u001b[39;00m \u001b[38;5;129;01mnot\u001b[39;00m \u001b[38;5;28mself\u001b[39m\u001b[38;5;241m.\u001b[39mconnect():\n\u001b[1;32m--> 108\u001b[0m     \u001b[38;5;28;01mraise\u001b[39;00m ConnectionException(\u001b[38;5;124m\"\u001b[39m\u001b[38;5;124mFailed to connect[\u001b[39m\u001b[38;5;132;01m%s\u001b[39;00m\u001b[38;5;124m]\u001b[39m\u001b[38;5;124m\"\u001b[39m \u001b[38;5;241m%\u001b[39m (\u001b[38;5;28mself\u001b[39m\u001b[38;5;241m.\u001b[39m\u001b[38;5;21m__str__\u001b[39m()))\n\u001b[0;32m    109\u001b[0m \u001b[38;5;28;01mreturn\u001b[39;00m \u001b[38;5;28mself\u001b[39m\u001b[38;5;241m.\u001b[39mtransaction\u001b[38;5;241m.\u001b[39mexecute(request)\n",
      "\u001b[1;31mConnectionException\u001b[0m: Modbus Error: [Connection] Failed to connect[ModbusTcpClient(localhost:5020)]"
     ]
    }
   ],
   "source": [
    "# pip install pymodbus\n",
    "from pymodbus.client.sync import ModbusTcpClient\n",
    "import time\n",
    "\n",
    "slaves = [\n",
    "    {\"ip\": \"localhost\", \"port\": 5020, \"unit\": 1},\n",
    "    {\"ip\": \"localhost\", \"port\": 5021, \"unit\": 2},\n",
    "    {\"ip\": \"localhost\", \"port\": 5022, \"unit\": 3},\n",
    "]\n",
    "\n",
    "while True:\n",
    "    for s in slaves:\n",
    "        client = ModbusTcpClient(s[\"ip\"], port=s[\"port\"])\n",
    "        client.connect()\n",
    "        rr = client.read_holding_registers(0, 1, unit=s[\"unit\"])\n",
    "        if not rr.isError():\n",
    "            print(f\"Slave {s['unit']} Temp: {rr.registers[0]}°C\")\n",
    "        else:\n",
    "            print(f\"Error reading from Slave {s['unit']}\")\n",
    "        client.close()\n",
    "    time.sleep(5)\n"
   ]
  },
  {
   "cell_type": "code",
   "execution_count": null,
   "id": "c7104bb7-8f6b-4bf1-a9ea-84f13c9b9ef3",
   "metadata": {},
   "outputs": [],
   "source": []
  }
 ],
 "metadata": {
  "kernelspec": {
   "display_name": "Python 3 (ipykernel)",
   "language": "python",
   "name": "python3"
  },
  "language_info": {
   "codemirror_mode": {
    "name": "ipython",
    "version": 3
   },
   "file_extension": ".py",
   "mimetype": "text/x-python",
   "name": "python",
   "nbconvert_exporter": "python",
   "pygments_lexer": "ipython3",
   "version": "3.13.5"
  }
 },
 "nbformat": 4,
 "nbformat_minor": 5
}
